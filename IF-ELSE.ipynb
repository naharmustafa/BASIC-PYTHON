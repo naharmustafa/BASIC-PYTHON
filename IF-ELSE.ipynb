{
 "cells": [
  {
   "cell_type": "code",
   "execution_count": 1,
   "metadata": {},
   "outputs": [
    {
     "name": "stdout",
     "output_type": "stream",
     "text": [
      "5\n"
     ]
    }
   ],
   "source": [
    "# Simple condition checking\n",
    "# equal to operator\n",
    "x=5\n",
    "if x==5:\n",
    "    print(x)\n",
    "else:\n",
    "    print('x!=5')"
   ]
  },
  {
   "cell_type": "code",
   "execution_count": 3,
   "metadata": {},
   "outputs": [
    {
     "name": "stdout",
     "output_type": "stream",
     "text": [
      "x= 10\n"
     ]
    }
   ],
   "source": [
    "# Not operator\n",
    "x=10\n",
    "if x!=5:\n",
    "    print('x=',x)\n",
    "else:\n",
    "    print(x==5)"
   ]
  },
  {
   "cell_type": "code",
   "execution_count": 4,
   "metadata": {},
   "outputs": [
    {
     "name": "stdout",
     "output_type": "stream",
     "text": [
      "X is equal to or greater than 5\n"
     ]
    }
   ],
   "source": [
    "# Use logical operator in if condition\n",
    "x=5\n",
    "if x>=5:\n",
    "    print('X is equal to or greater than 5')\n",
    "else:\n",
    "    print('Out of ...!')\n"
   ]
  },
  {
   "cell_type": "code",
   "execution_count": 7,
   "metadata": {},
   "outputs": [
    {
     "name": "stdout",
     "output_type": "stream",
     "text": [
      "X is between 5 to 15\n"
     ]
    }
   ],
   "source": [
    "# Use or logical operator (Which check both condition at a time,If one of them true it excute if statement)\n",
    "x=15\n",
    "if x>5 or x<15:\n",
    "    print('X is between 5 to 15')\n",
    "else :\n",
    "    print('Out of ...!')"
   ]
  },
  {
   "cell_type": "code",
   "execution_count": 11,
   "metadata": {},
   "outputs": [
    {
     "name": "stdout",
     "output_type": "stream",
     "text": [
      "Enter number :2\n",
      "X is between 5 to 15\n"
     ]
    }
   ],
   "source": [
    "# Above example by dynamic input\n",
    "x=int(input('Enter number :'))\n",
    "if x>5 or x<15:\n",
    "    print()\n",
    "else :\n",
    "    print('Out of ...!')"
   ]
  },
  {
   "cell_type": "code",
   "execution_count": 14,
   "metadata": {},
   "outputs": [
    {
     "name": "stdout",
     "output_type": "stream",
     "text": [
      "Enter number :5\n",
      "Number is between 5 to 15\n"
     ]
    }
   ],
   "source": [
    "# and operator (It excute if statement only when both the condition true)\n",
    "x=int(input('Enter number :'))\n",
    "if x>=5 and x<15:\n",
    "    print('Number is between 5 to 15')\n",
    "else:\n",
    "    print('Number is less then 5')"
   ]
  },
  {
   "cell_type": "code",
   "execution_count": 8,
   "metadata": {},
   "outputs": [
    {
     "name": "stdout",
     "output_type": "stream",
     "text": [
      "Enter number : 1\n",
      "One\n"
     ]
    }
   ],
   "source": [
    "# Checking by dynamic input\n",
    "x=int(input('Enter number : '))\n",
    "if x==1:\n",
    "    print('One')\n",
    "else:\n",
    "    print('Out of.....!')"
   ]
  },
  {
   "cell_type": "code",
   "execution_count": 9,
   "metadata": {},
   "outputs": [
    {
     "name": "stdout",
     "output_type": "stream",
     "text": [
      "Enter number : 2\n",
      "Two\n"
     ]
    }
   ],
   "source": [
    "# More then one condition\n",
    "x=int(input('Enter number : '))\n",
    "if x==1:\n",
    "    print('one')\n",
    "elif x==2:\n",
    "    print('Two')\n",
    "elif x==3:\n",
    "    print('Three')\n",
    "else:\n",
    "    print('Out of ...!')"
   ]
  },
  {
   "cell_type": "markdown",
   "metadata": {},
   "source": [
    "### PRACTICE QUESTION "
   ]
  },
  {
   "cell_type": "markdown",
   "metadata": {},
   "source": [
    "#### Q. Check the number is divisible by 5 or not . Take Dynamic input"
   ]
  },
  {
   "cell_type": "code",
   "execution_count": 15,
   "metadata": {},
   "outputs": [
    {
     "name": "stdout",
     "output_type": "stream",
     "text": [
      "Enter the number : 25\n",
      "Giving number is divide by 5\n"
     ]
    }
   ],
   "source": [
    "#dynamic input\n",
    "num=int(input('Enter the number : '))\n",
    "\n",
    "if num%5==0:\n",
    "    print('Giving number is divide by 5')\n",
    "\n",
    "else:\n",
    "    print('Not divide by 5')"
   ]
  },
  {
   "cell_type": "markdown",
   "metadata": {},
   "source": [
    "#### Q.Check the grade of the student . by taking dynamic input . By following data(Marks)\n",
    "#### 1math"
   ]
  },
  {
   "cell_type": "code",
   "execution_count": null,
   "metadata": {},
   "outputs": [],
   "source": [
    "# Taking dynamic marks\n",
    "eng=int(input('English marks : '))\n",
    "hin=int(input('Hindi marks :'))\n",
    "mat=int(input('Mathematic marks :'))\n",
    "sci=int(input('Science marks :'))\n",
    "total=eng+hin+mat+sci\n",
    "per=(total/400)*100\n",
    "print('Percentage is ',per,'\\n')     #\\n for line break\n",
    "if per>=90:\n",
    "    print('Grade A')\n",
    "elif per<=90 and per>=70:\n",
    "    print('Grade B')\n",
    "elif per<=70 and per>=55:\n",
    "    print('Grade C')\n",
    "else:\n",
    "    print('Fail')"
   ]
  },
  {
   "cell_type": "markdown",
   "metadata": {},
   "source": [
    "#### Q. Take values of length and breadth of a rectangle from user and check if it is square or not.\n"
   ]
  },
  {
   "cell_type": "code",
   "execution_count": 4,
   "metadata": {},
   "outputs": [
    {
     "name": "stdout",
     "output_type": "stream",
     "text": [
      "Length is : 50\n",
      "Breadth is : 50\n",
      "Giving object is Square\n"
     ]
    }
   ],
   "source": [
    "# take input of length and breadth\n",
    "length=int(input(\"Length is : \"))\n",
    "breadth=int(input(\"Breadth is : \"))\n",
    "if length==breadth:\n",
    "    print('Giving object is Square')\n",
    "else:\n",
    "    print('Object is Rectangle')"
   ]
  },
  {
   "cell_type": "markdown",
   "metadata": {},
   "source": [
    "#### Q.A company decided to give bonus of 8% to employee if his/her year of service is more than 5 years.Ask user for their salary and year of service and print the net bonus amount.\n"
   ]
  },
  {
   "cell_type": "code",
   "execution_count": 2,
   "metadata": {},
   "outputs": [
    {
     "name": "stdout",
     "output_type": "stream",
     "text": [
      "Salary : 15000\n",
      "Year of Service : 6\n",
      "Current salary 15000\n",
      "Total  Salary with bonus is  16200.0\n",
      "Bonus is  1200.0\n"
     ]
    }
   ],
   "source": [
    "# Take salary and year of service as input from user.\n",
    "salary=int(input('Salary : '))\n",
    "yos=int(input('Year of Service : '))\n",
    "print('Current salary',salary)\n",
    "if yos>5:\n",
    "    total_sal=salary*0.08+salary\n",
    "    print('Total  Salary with bonus is ',total_sal)\n",
    "    print(\"Bonus is \",salary*0.08)\n",
    "else:\n",
    "    print('Bonus is not aplicable')\n",
    "    \n"
   ]
  },
  {
   "cell_type": "markdown",
   "metadata": {},
   "source": [
    "#### Q. A student will not be allowed to sit in exam if his/her attendence is less than 65%.\n",
    "#### Take following input from user\n",
    "#### Number of classes held\n",
    "#### Number of classes attended.\n",
    "#### And print\n",
    "#### percentage of class attended\n",
    "#### Is student is allowed to sit in exam or not"
   ]
  },
  {
   "cell_type": "code",
   "execution_count": 6,
   "metadata": {},
   "outputs": [
    {
     "name": "stdout",
     "output_type": "stream",
     "text": [
      "Total Class Held : 256\n",
      "Total Class You Attended : 120\n",
      "Percentage of attended class is  46.875\n",
      "You are not allowed to sit in Examination Hall\n"
     ]
    }
   ],
   "source": [
    "noh=int(input('Total Class Held : '))\n",
    "noa=int(input('Total Class You Attended : '))\n",
    "per_attend=(noa/noh)*100\n",
    "print('Percentage of attended class is ',per_attend)\n",
    "if per_attend<65:\n",
    "    print('You are not allowed to sit in Examination Hall')\n",
    "else:\n",
    "    print('You are allowed to sit in Examination Hall')"
   ]
  },
  {
   "cell_type": "markdown",
   "metadata": {},
   "source": [
    "#### Modify the above question to allow student to sit if he/she has medical cause. Ask user if he/she has medical cause or not ( 'Y' or 'N' ) and print accordingly"
   ]
  },
  {
   "cell_type": "code",
   "execution_count": 9,
   "metadata": {},
   "outputs": [
    {
     "name": "stdout",
     "output_type": "stream",
     "text": [
      "Total Class Held : 256\n",
      "Total Class You Attended : 120\n",
      "Medical issue (Y/N) : n\n",
      "Percentage of attended class is  46.875\n",
      "You are not allowed to sit in Examination Hall\n"
     ]
    }
   ],
   "source": [
    "noh=int(input('Total Class Held : '))\n",
    "noa=int(input('Total Class You Attended : '))\n",
    "medical=input('Medical issue (Y/N) : ')\n",
    "per_attend=(noa/noh)*100\n",
    "print('Percentage of attended class is ',per_attend)\n",
    "if medical=='y':\n",
    "    print('You are allowed')\n",
    "elif per_attend<65:\n",
    "    print('You are not allowed to sit in Examination Hall')\n",
    "else:\n",
    "    print('You are allowed to sit in Examination Hall')\n"
   ]
  },
  {
   "cell_type": "markdown",
   "metadata": {},
   "source": [
    "#### Q.Ask user to enter age, sex ( M or F ), marital status ( Y or N ) and then using following rules print their place of service.\n",
    "##### if employee is female, then she will work only in urban areas.\n",
    "\n",
    "##### if employee is a male and age is in between 24 to 40 then he may work in anywhere\n",
    "\n",
    "##### if employee is male and age is in between 40 t0 54 then he will work in urban areas only.\n",
    "\n",
    "##### And any other input of age should print \"ERROR\""
   ]
  },
  {
   "cell_type": "code",
   "execution_count": 12,
   "metadata": {},
   "outputs": [
    {
     "name": "stdout",
     "output_type": "stream",
     "text": [
      "Enter your age : 18\n",
      "Gender (M/F) :f\n",
      "What is your Martial status (Married/not) : n\n",
      "You will work only in Urban areas\n"
     ]
    }
   ],
   "source": [
    "age=int(input('Enter your age : '))\n",
    "sex=input('Gender (M/F) :')\n",
    "martial=input('What is your Martial status (Married/not) : ')\n",
    "if sex=='f':\n",
    "    print('You will work only in Urban areas')\n",
    "elif sex=='m' and age>=24 and age<=40:\n",
    "    print('You may work In any place , No restriction')\n",
    "elif sex=='m' and age>=40 and age<=54:\n",
    "    print('You are allowed to work in only Urban areas')\n"
   ]
  },
  {
   "cell_type": "code",
   "execution_count": null,
   "metadata": {},
   "outputs": [],
   "source": []
  }
 ],
 "metadata": {
  "kernelspec": {
   "display_name": "Python 3",
   "language": "python",
   "name": "python3"
  },
  "language_info": {
   "codemirror_mode": {
    "name": "ipython",
    "version": 3
   },
   "file_extension": ".py",
   "mimetype": "text/x-python",
   "name": "python",
   "nbconvert_exporter": "python",
   "pygments_lexer": "ipython3",
   "version": "3.7.7"
  }
 },
 "nbformat": 4,
 "nbformat_minor": 4
}
